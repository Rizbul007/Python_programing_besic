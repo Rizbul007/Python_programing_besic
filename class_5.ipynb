{
  "nbformat": 4,
  "nbformat_minor": 0,
  "metadata": {
    "colab": {
      "provenance": [],
      "authorship_tag": "ABX9TyN1fUAbGv/UI8U+x1f5K93W",
      "include_colab_link": true
    },
    "kernelspec": {
      "name": "python3",
      "display_name": "Python 3"
    },
    "language_info": {
      "name": "python"
    }
  },
  "cells": [
    {
      "cell_type": "markdown",
      "metadata": {
        "id": "view-in-github",
        "colab_type": "text"
      },
      "source": [
        "<a href=\"https://colab.research.google.com/github/Rizbul007/Python_programing_besic/blob/master/class_5.ipynb\" target=\"_parent\"><img src=\"https://colab.research.google.com/assets/colab-badge.svg\" alt=\"Open In Colab\"/></a>"
      ]
    },
    {
      "cell_type": "code",
      "source": [
        "# prompt: is list , tuple, set  .. mutable,order, duplicte allow?\n",
        "\n",
        "| Feature       | List      | Tuple     | Set       |\n",
        "|---------------|-----------|-----------|-----------|\n",
        "| Mutable       | Yes       | No        | Yes       |\n",
        "| Ordered       | Yes       | Yes       | No        |\n",
        "| Duplicates    | Yes       | Yes       | No        |\n"
      ],
      "metadata": {
        "id": "6jkBeNM-3sPj"
      },
      "execution_count": null,
      "outputs": []
    },
    {
      "cell_type": "code",
      "source": [
        "# prompt: To set password use tuple so that no one can change it or hack it\n",
        "\n",
        "password = (\"my_secure_password\")\n",
        "\n",
        "# You can access the password using indexing like\n",
        "# print(password[0])\n",
        "\n",
        "\n",
        "# But trying to modify it will result in an error:\n",
        "# password[0] = \"x\"  # This will raise a TypeError: 'tuple' object does not support item assignment\n"
      ],
      "metadata": {
        "id": "_YdBorSf7Lk2"
      },
      "execution_count": null,
      "outputs": []
    },
    {
      "cell_type": "code",
      "source": [
        "# prompt: Tuples exampl\n",
        "\n",
        "password = (\"my_secret_password\",)\n",
        "print(password[0])  # Output: my_secret_password\n",
        "user_credentials = (\"john_doe\", \"password123\")\n",
        "username, password = user_credentials\n",
        "print(f\"Username: {username}, Password: {password}\")\n",
        "\n"
      ],
      "metadata": {
        "colab": {
          "base_uri": "https://localhost:8080/"
        },
        "id": "r2IuFeZH7xSO",
        "outputId": "6c007bae-986e-42a1-f40a-8fcca7022db1"
      },
      "execution_count": null,
      "outputs": [
        {
          "output_type": "stream",
          "name": "stdout",
          "text": [
            "my_secret_password\n",
            "Username: john_doe, Password: password123\n"
          ]
        }
      ]
    },
    {
      "cell_type": "code",
      "source": [
        "my_tuple = (1,2,3,5)\n",
        "print(\"Tuple:\",my_tuple)\n",
        "print(my_tuple[2])"
      ],
      "metadata": {
        "colab": {
          "base_uri": "https://localhost:8080/"
        },
        "id": "zFtdwDN88VtO",
        "outputId": "3914e3b9-8a9f-4806-c9e7-fc88dd074e6b"
      },
      "execution_count": null,
      "outputs": [
        {
          "output_type": "stream",
          "name": "stdout",
          "text": [
            "Tuple: (1, 2, 3, 5)\n",
            "3\n"
          ]
        }
      ]
    },
    {
      "cell_type": "code",
      "source": [
        "mixed_set = {1,'hi',23,4}\n",
        "print(mixed_set) # unorderd print"
      ],
      "metadata": {
        "colab": {
          "base_uri": "https://localhost:8080/"
        },
        "id": "6e8ABV6w81fQ",
        "outputId": "c5869337-f38d-4ec8-dd63-29f15dbe49b6"
      },
      "execution_count": null,
      "outputs": [
        {
          "output_type": "stream",
          "name": "stdout",
          "text": [
            "{1, 'hi', 4, 23}\n"
          ]
        }
      ]
    },
    {
      "cell_type": "code",
      "source": [
        "num = {1,3,5,1,4}\n",
        "print(num) # dont print duplicate value"
      ],
      "metadata": {
        "colab": {
          "base_uri": "https://localhost:8080/"
        },
        "id": "qJkuzgvuILAf",
        "outputId": "094e0a65-1805-4159-826a-0bb5fd144271"
      },
      "execution_count": null,
      "outputs": [
        {
          "output_type": "stream",
          "name": "stdout",
          "text": [
            "{1, 3, 4, 5}\n"
          ]
        }
      ]
    },
    {
      "cell_type": "code",
      "source": [
        "# prompt: covert a list to set then again in set to remove duplicate value\n",
        "\n",
        "my_list = [1, 2, 2, 3, 4, 4, 5]\n",
        "my_set = set(my_list)\n",
        "my_new_list = list(my_set)\n",
        "print(my_new_list)"
      ],
      "metadata": {
        "id": "NJ4mqHxIIgxk"
      },
      "execution_count": null,
      "outputs": []
    },
    {
      "cell_type": "code",
      "source": [
        "# prompt: discard & remove work same\n",
        "\n",
        "my_set = {1, 2, 3}\n",
        "\n",
        "# Using remove()\n",
        "my_set.remove(2)\n",
        "print(my_set)  # Output: {1, 3}\n",
        "\n",
        "# Using remove() on a non-existent element\n",
        "# my_set.remove(4)  # Raises a KeyError\n",
        "\n",
        "# Using discard()\n",
        "my_set.discard(3)\n",
        "print(my_set)  # Output: {1}\n",
        "\n",
        "# Using discard() on a non-existent element\n",
        "my_set.discard(4)  # Does nothing, no error is raised\n",
        "print(my_set)  # Output: {1}"
      ],
      "metadata": {
        "colab": {
          "base_uri": "https://localhost:8080/"
        },
        "id": "AurMQguzJUZt",
        "outputId": "11763260-0dc1-4e3e-bd80-026e783ffe86"
      },
      "execution_count": null,
      "outputs": [
        {
          "output_type": "stream",
          "name": "stdout",
          "text": [
            "{1, 3}\n",
            "{1}\n",
            "{1}\n"
          ]
        }
      ]
    },
    {
      "cell_type": "code",
      "source": [
        "# prompt: | , & in set\n",
        "\n",
        "# Set Operations: Union, Intersection, Difference\n",
        "\n",
        "set1 = {1, 2, 3}\n",
        "set2 = {3, 4, 5}\n",
        "\n",
        "# Union (|) - Combines elements from both sets without duplicates\n",
        "union_set = set1 | set2\n",
        "print(\"Union:\", union_set)  # Output: {1, 2, 3, 4, 5}\n",
        "\n",
        "# Intersection (&) - Returns common elements between sets\n",
        "intersection_set = set1 & set2\n",
        "print(\"Intersection:\", intersection_set)  # Output: {3}\n",
        "\n",
        "# Difference (-) - Returns elements in the first set but not in the second\n",
        "difference_set = set1 - set2\n",
        "print(\"Difference (set1 - set2):\", difference_set)  # Output: {1, 2}\n",
        "\n",
        "difference_set = set2 - set1\n",
        "print(\"Difference (set2 - set1):\", difference_set)  # Output: {4, 5}"
      ],
      "metadata": {
        "id": "dJUyGTZUKAQm"
      },
      "execution_count": null,
      "outputs": []
    },
    {
      "cell_type": "code",
      "source": [
        "set1 = {1,2,3}\n",
        "set2 = {3,4,5}\n",
        "unionofset = set1|set2\n",
        "print(unionofset)"
      ],
      "metadata": {
        "colab": {
          "base_uri": "https://localhost:8080/"
        },
        "id": "JWE-4BuHKbQt",
        "outputId": "2db387fb-76f8-4240-f59e-0aafe4efa4d8"
      },
      "execution_count": null,
      "outputs": [
        {
          "output_type": "stream",
          "name": "stdout",
          "text": [
            "{1, 2, 3, 4, 5}\n"
          ]
        }
      ]
    },
    {
      "cell_type": "code",
      "source": [
        "common = set1 & set2\n",
        "print(common)"
      ],
      "metadata": {
        "colab": {
          "base_uri": "https://localhost:8080/"
        },
        "id": "c2uR5sNCKpfx",
        "outputId": "c66564a2-9657-4f38-ad77-75196870f74c"
      },
      "execution_count": null,
      "outputs": [
        {
          "output_type": "stream",
          "name": "stdout",
          "text": [
            "{3}\n"
          ]
        }
      ]
    },
    {
      "cell_type": "code",
      "source": [
        "unique_to_set1 = set1 - set2\n",
        "print(unique_to_set1)"
      ],
      "metadata": {
        "colab": {
          "base_uri": "https://localhost:8080/"
        },
        "id": "6mUXJ_86K-rd",
        "outputId": "fe0bbafc-e719-43df-e9de-1b24a619a600"
      },
      "execution_count": null,
      "outputs": [
        {
          "output_type": "stream",
          "name": "stdout",
          "text": [
            "{1, 2}\n"
          ]
        }
      ]
    },
    {
      "cell_type": "code",
      "source": [
        "\n",
        "# Create a set of squares of numbers from 1 to 10 using set comprehension\n",
        "squares = {x**2 for x in range(1, 11)}\n",
        "print(squares)\n",
        "\n",
        "# Create a set of even numbers from a list using set comprehension\n",
        "numbers = [1, 2, 3, 4, 5, 6, 7, 8, 9, 10]\n",
        "even_numbers = {x for x in numbers if x % 2 == 0}\n",
        "print(even_numbers)\n",
        "\n",
        "# Create a set of unique characters from a string using set comprehension\n",
        "string = \"hello world\"\n",
        "unique_characters = {char for char in string}\n",
        "print(unique_characters)"
      ],
      "metadata": {
        "colab": {
          "base_uri": "https://localhost:8080/"
        },
        "id": "yBW0w8CGL7MQ",
        "outputId": "b80efe1b-4044-448c-d6ea-7480f0f54241"
      },
      "execution_count": null,
      "outputs": [
        {
          "output_type": "stream",
          "name": "stdout",
          "text": [
            "{64, 1, 4, 36, 100, 9, 16, 49, 81, 25}\n",
            "{2, 4, 6, 8, 10}\n",
            "{'d', 'e', 'w', 'r', 'l', ' ', 'h', 'o'}\n"
          ]
        }
      ]
    },
    {
      "cell_type": "code",
      "source": [
        "# Assingment 2:\n",
        "\n",
        "my = {'ctg','srimongal','dhaka'}\n",
        "frnd = {'ctg','khulna','dhaka'}\n",
        "\n",
        "intersection_set = my & frnd\n",
        "print(\"Intersection:\", intersection_set)\n",
        "print(\"Only i Visited: \",my - frnd)\n",
        "print(\"Only frnd Visited: \",frnd -my)\n",
        "\n"
      ],
      "metadata": {
        "colab": {
          "base_uri": "https://localhost:8080/"
        },
        "id": "Ua6s35FOPFpb",
        "outputId": "56a3ccf2-854f-453e-e16e-aaefdfdd5d5f"
      },
      "execution_count": null,
      "outputs": [
        {
          "output_type": "stream",
          "name": "stdout",
          "text": [
            "Intersection: {'dhaka', 'ctg'}\n",
            "Only i Visited:  {'srimongal'}\n",
            "Only frnd Visited:  {'khulna'}\n"
          ]
        }
      ]
    }
  ]
}