{
  "nbformat": 4,
  "nbformat_minor": 0,
  "metadata": {
    "colab": {
      "provenance": [],
      "authorship_tag": "ABX9TyNKPn62I89CidcnYo1R459N",
      "include_colab_link": true
    },
    "kernelspec": {
      "name": "python3",
      "display_name": "Python 3"
    },
    "language_info": {
      "name": "python"
    }
  },
  "cells": [
    {
      "cell_type": "markdown",
      "metadata": {
        "id": "view-in-github",
        "colab_type": "text"
      },
      "source": [
        "<a href=\"https://colab.research.google.com/github/Rizbul007/Python_programing_besic/blob/master/Dictionary_class_6.ipynb\" target=\"_parent\"><img src=\"https://colab.research.google.com/assets/colab-badge.svg\" alt=\"Open In Colab\"/></a>"
      ]
    },
    {
      "cell_type": "markdown",
      "source": [
        "creating a dictionay"
      ],
      "metadata": {
        "id": "b56iihyz4k0C"
      }
    },
    {
      "cell_type": "code",
      "source": [
        "my_dict={}\n",
        "my_dict={'name':'Rizbul','age':23}\n",
        "print(my_dict)"
      ],
      "metadata": {
        "colab": {
          "base_uri": "https://localhost:8080/"
        },
        "id": "fZqIUCWW4rqR",
        "outputId": "1a97cdaf-f927-49d9-ad47-3a66c8545579"
      },
      "execution_count": null,
      "outputs": [
        {
          "output_type": "stream",
          "name": "stdout",
          "text": [
            "{'name': 'Rizbul', 'age': 23}\n"
          ]
        }
      ]
    },
    {
      "cell_type": "markdown",
      "source": [
        "Access values in key"
      ],
      "metadata": {
        "id": "ZUEik6Vb5dGa"
      }
    },
    {
      "cell_type": "code",
      "source": [
        "name=my_dict['name']\n",
        "age=my_dict.get('age')\n",
        "print(name)\n",
        "print(age)\n",
        "#also use to get in one print\n",
        "print(name,age)"
      ],
      "metadata": {
        "colab": {
          "base_uri": "https://localhost:8080/"
        },
        "id": "J2muup3h5fYq",
        "outputId": "ee192a98-a30a-4c3c-cded-9105bd03b455"
      },
      "execution_count": null,
      "outputs": [
        {
          "output_type": "stream",
          "name": "stdout",
          "text": [
            "Rizbul\n",
            "23\n",
            "Rizbul 23\n"
          ]
        }
      ]
    },
    {
      "cell_type": "markdown",
      "source": [
        "add items in dictionary"
      ],
      "metadata": {
        "id": "Rb0Vm0M86tYK"
      }
    },
    {
      "cell_type": "code",
      "source": [
        "my_dict['country']='bangladesh'\n",
        "my_dict['job']='CSE'\n",
        "\n",
        "print(my_dict)"
      ],
      "metadata": {
        "colab": {
          "base_uri": "https://localhost:8080/"
        },
        "id": "icnTAjob6v_x",
        "outputId": "2bf4a7d0-2533-492d-d660-22c59fb6b75f"
      },
      "execution_count": null,
      "outputs": [
        {
          "output_type": "stream",
          "name": "stdout",
          "text": [
            "{'name': 'Rizbul', 'age': 23, 'country': 'bangladesh', 'job': 'CSE'}\n"
          ]
        }
      ]
    },
    {
      "cell_type": "markdown",
      "source": [
        "delete items from dictionary\n",
        "\n",
        "del\n",
        "\n",
        "pop\n",
        "\n",
        "popitem= rmv last item of dictionay"
      ],
      "metadata": {
        "id": "IUewXayO7hjr"
      }
    },
    {
      "cell_type": "code",
      "source": [
        "#del\n",
        "del my_dict['job']\n",
        "print(my_dict)"
      ],
      "metadata": {
        "colab": {
          "base_uri": "https://localhost:8080/"
        },
        "id": "r5G1HT0y7mEC",
        "outputId": "198b09d0-3f54-4d46-dd6c-cf0a4f1e990a"
      },
      "execution_count": null,
      "outputs": [
        {
          "output_type": "stream",
          "name": "stdout",
          "text": [
            "{'name': 'Rizbul', 'age': 23, 'country': 'bangladesh'}\n"
          ]
        }
      ]
    },
    {
      "cell_type": "code",
      "source": [
        "#pop\n",
        "age=my_dict.pop('age')\n",
        "print(my_dict)"
      ],
      "metadata": {
        "colab": {
          "base_uri": "https://localhost:8080/"
        },
        "id": "TKHWtTf19ePq",
        "outputId": "f4d010b3-cebf-4298-d1e2-e14435900525"
      },
      "execution_count": null,
      "outputs": [
        {
          "output_type": "stream",
          "name": "stdout",
          "text": [
            "{'name': 'Rizbul', 'country': 'bangladesh'}\n"
          ]
        }
      ]
    },
    {
      "cell_type": "code",
      "source": [
        "#popitem\n",
        "last_item=my_dict.popitem()\n",
        "print(my_dict,last_item)"
      ],
      "metadata": {
        "colab": {
          "base_uri": "https://localhost:8080/"
        },
        "id": "Ki7y25sn9jV7",
        "outputId": "7b0d5da8-e6c1-4204-ba87-a8b4bad24df2"
      },
      "execution_count": null,
      "outputs": [
        {
          "output_type": "stream",
          "name": "stdout",
          "text": [
            "{'name': 'Rizbul'} ('country', 'bangladesh')\n"
          ]
        }
      ]
    },
    {
      "cell_type": "markdown",
      "source": [
        "update value in dictionay"
      ],
      "metadata": {
        "id": "RgFI5IqA-_ZE"
      }
    },
    {
      "cell_type": "code",
      "source": [
        "my_dict['age']=40\n",
        "print(my_dict)"
      ],
      "metadata": {
        "colab": {
          "base_uri": "https://localhost:8080/"
        },
        "id": "M0eBkvMd_M-c",
        "outputId": "bf1068b8-68f0-4ffd-d777-450007474d78"
      },
      "execution_count": null,
      "outputs": [
        {
          "output_type": "stream",
          "name": "stdout",
          "text": [
            "{'name': 'Rizbul', 'age': 40}\n"
          ]
        }
      ]
    },
    {
      "cell_type": "markdown",
      "source": [
        "Iterating through a dictionay"
      ],
      "metadata": {
        "id": "wCasBlh-ASet"
      }
    },
    {
      "cell_type": "code",
      "source": [
        "#Iterating through key\n",
        "for key in my_dict:\n",
        "  print(key)"
      ],
      "metadata": {
        "colab": {
          "base_uri": "https://localhost:8080/"
        },
        "id": "mWWDMz4qARg0",
        "outputId": "1a25f79b-0dec-4ff9-e2d0-be8d1e959685"
      },
      "execution_count": null,
      "outputs": [
        {
          "output_type": "stream",
          "name": "stdout",
          "text": [
            "name\n",
            "age\n"
          ]
        }
      ]
    },
    {
      "cell_type": "code",
      "source": [
        "#Iterating through value\n",
        "for value in my_dict.values():\n",
        "  print(value)"
      ],
      "metadata": {
        "colab": {
          "base_uri": "https://localhost:8080/"
        },
        "id": "hbYJiz8IBQjd",
        "outputId": "b7d92e37-ecc7-41dd-c999-3665a1864b27"
      },
      "execution_count": null,
      "outputs": [
        {
          "output_type": "stream",
          "name": "stdout",
          "text": [
            "Rizbul\n",
            "40\n"
          ]
        }
      ]
    },
    {
      "cell_type": "code",
      "source": [
        "#Iterating through key-value pair\n",
        "for key,value in my_dict.items():\n",
        "  print(key,value)"
      ],
      "metadata": {
        "colab": {
          "base_uri": "https://localhost:8080/"
        },
        "id": "LcPJDShnAlmD",
        "outputId": "123e07b5-62d9-4239-d214-56cfd6d59db7"
      },
      "execution_count": null,
      "outputs": [
        {
          "output_type": "stream",
          "name": "stdout",
          "text": [
            "name Rizbul\n",
            "age 40\n"
          ]
        }
      ]
    },
    {
      "cell_type": "markdown",
      "source": [
        "Find dictionay length"
      ],
      "metadata": {
        "id": "GtKj4th4DPxO"
      }
    },
    {
      "cell_type": "code",
      "source": [
        "length=len(my_dict)\n",
        "print('lenght of my dictionar',length)"
      ],
      "metadata": {
        "colab": {
          "base_uri": "https://localhost:8080/"
        },
        "id": "N1rzw6k0DTjO",
        "outputId": "0e481c3b-016f-4741-ef4c-c431707a2d8d"
      },
      "execution_count": null,
      "outputs": [
        {
          "output_type": "stream",
          "name": "stdout",
          "text": [
            "lenght of my dictionar 2\n"
          ]
        }
      ]
    },
    {
      "cell_type": "markdown",
      "source": [
        "build in methods"
      ],
      "metadata": {
        "id": "3_DzLVnOEC6u"
      }
    },
    {
      "cell_type": "code",
      "source": [
        "#using keys(),values(),items\n",
        "keys=my_dict.keys()\n",
        "values=my_dict.values()\n",
        "items=my_dict.items()\n",
        "print(keys,values,items)"
      ],
      "metadata": {
        "colab": {
          "base_uri": "https://localhost:8080/"
        },
        "id": "n4B-7-PHEHbV",
        "outputId": "984d25ac-4af1-482e-b71b-c0f5689e678d"
      },
      "execution_count": null,
      "outputs": [
        {
          "output_type": "stream",
          "name": "stdout",
          "text": [
            "dict_keys(['name', 'age']) dict_values(['Rizbul', 40]) dict_items([('name', 'Rizbul'), ('age', 40)])\n"
          ]
        }
      ]
    },
    {
      "cell_type": "code",
      "source": [
        "#using update() to add items\n",
        "my_dict.update({'job':'CSE','birth':'chittagong'})\n",
        "print(my_dict)"
      ],
      "metadata": {
        "colab": {
          "base_uri": "https://localhost:8080/"
        },
        "id": "IHi6TKmhE_me",
        "outputId": "c948f95a-e8c3-4ad2-f258-1c445879bac8"
      },
      "execution_count": null,
      "outputs": [
        {
          "output_type": "stream",
          "name": "stdout",
          "text": [
            "{'name': 'Rizbul', 'age': 40, 'job': 'CSE', 'birth': 'chittagong'}\n"
          ]
        }
      ]
    },
    {
      "cell_type": "markdown",
      "source": [
        "Dictionary membership test"
      ],
      "metadata": {
        "id": "Hc4WjYugF6q-"
      }
    },
    {
      "cell_type": "code",
      "source": [
        "if 'name' in my_dict:\n",
        "  print('rizbul exist')\n",
        "if 'salary' not in my_dict:\n",
        "  print('never have')"
      ],
      "metadata": {
        "colab": {
          "base_uri": "https://localhost:8080/"
        },
        "id": "Rjf2jrxeF-N_",
        "outputId": "40d17bb2-ca8c-4040-ea61-1c8acbc07e7f"
      },
      "execution_count": null,
      "outputs": [
        {
          "output_type": "stream",
          "name": "stdout",
          "text": [
            "rizbul exist\n",
            "never have\n"
          ]
        }
      ]
    },
    {
      "cell_type": "code",
      "source": [
        "#assignment 1\n",
        "word=['apple','banana','apple','orange','banana','apple']\n",
        "A={}\n",
        "for i in word:\n",
        "  if i not in A:\n",
        "    A[i]=1\n",
        "  else:\n",
        "    A[i]+=1\n",
        "print(A)"
      ],
      "metadata": {
        "colab": {
          "base_uri": "https://localhost:8080/"
        },
        "id": "LHExEBOzRHYy",
        "outputId": "1238f9c7-7a99-4c2b-987e-5a54845b90f3"
      },
      "execution_count": null,
      "outputs": [
        {
          "output_type": "stream",
          "name": "stdout",
          "text": [
            "{'apple': 3, 'banana': 2, 'orange': 1}\n"
          ]
        }
      ]
    },
    {
      "cell_type": "markdown",
      "source": [
        "kaggle notbook"
      ],
      "metadata": {
        "id": "Ajfdv5AUWq3k"
      }
    }
  ]
}