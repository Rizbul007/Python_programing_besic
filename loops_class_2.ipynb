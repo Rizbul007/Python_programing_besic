{
  "nbformat": 4,
  "nbformat_minor": 0,
  "metadata": {
    "colab": {
      "provenance": [],
      "authorship_tag": "ABX9TyPlkKVfroLVpMcGkQacPtMC",
      "include_colab_link": true
    },
    "kernelspec": {
      "name": "python3",
      "display_name": "Python 3"
    },
    "language_info": {
      "name": "python"
    }
  },
  "cells": [
    {
      "cell_type": "markdown",
      "metadata": {
        "id": "view-in-github",
        "colab_type": "text"
      },
      "source": [
        "<a href=\"https://colab.research.google.com/github/Rizbul007/Python_programing_besic/blob/master/loops_class_2.ipynb\" target=\"_parent\"><img src=\"https://colab.research.google.com/assets/colab-badge.svg\" alt=\"Open In Colab\"/></a>"
      ]
    },
    {
      "cell_type": "markdown",
      "source": [
        "while loop"
      ],
      "metadata": {
        "id": "RZtlfmhd04Cb"
      }
    },
    {
      "cell_type": "code",
      "source": [
        "i=1\n",
        "sum=0\n",
        "while i<=100:\n",
        "  sum+=i\n",
        "  i+=1\n",
        "print( sum)\n"
      ],
      "metadata": {
        "colab": {
          "base_uri": "https://localhost:8080/"
        },
        "collapsed": true,
        "id": "AsF-ZkHu06cD",
        "outputId": "fc3402f1-c073-456d-9bc7-fa4408817969"
      },
      "execution_count": null,
      "outputs": [
        {
          "output_type": "stream",
          "name": "stdout",
          "text": [
            "5050\n"
          ]
        }
      ]
    },
    {
      "cell_type": "code",
      "source": [
        "x=1\n",
        "while x==1:\n",
        "  number=int(input('Enter a number:'))\n",
        "  print(number)\n",
        "print('good bye!')"
      ],
      "metadata": {
        "id": "HQXf94zf7cmk"
      },
      "execution_count": null,
      "outputs": []
    },
    {
      "cell_type": "code",
      "source": [
        "i=1\n",
        "while i<=5:\n",
        "  print(i)\n",
        "  i+=1\n",
        "else:\n",
        "  print('loop finished')"
      ],
      "metadata": {
        "colab": {
          "base_uri": "https://localhost:8080/"
        },
        "id": "SQMRdrJI8Qkj",
        "outputId": "c2f245b5-5eda-452a-8368-43b5dcf07c0c"
      },
      "execution_count": null,
      "outputs": [
        {
          "output_type": "stream",
          "name": "stdout",
          "text": [
            "1\n",
            "2\n",
            "3\n",
            "4\n",
            "5\n",
            "loop finished\n"
          ]
        }
      ]
    },
    {
      "cell_type": "markdown",
      "source": [
        "For loop\n",
        "\n",
        "range(100),range(5,50),range(5,100,5)"
      ],
      "metadata": {
        "id": "B2E7oik_9WXC"
      }
    },
    {
      "cell_type": "code",
      "source": [
        "for num in range(9,90,10):\n",
        "  print(num)"
      ],
      "metadata": {
        "colab": {
          "base_uri": "https://localhost:8080/"
        },
        "id": "cAIkSR9C9X16",
        "outputId": "810458d2-1302-4841-ff89-f86b43de93a3"
      },
      "execution_count": null,
      "outputs": [
        {
          "output_type": "stream",
          "name": "stdout",
          "text": [
            "9\n",
            "19\n",
            "29\n",
            "39\n",
            "49\n",
            "59\n",
            "69\n",
            "79\n",
            "89\n"
          ]
        }
      ]
    },
    {
      "cell_type": "code",
      "source": [
        "sum=0\n",
        "for num in range(101):\n",
        "  sum+=num\n",
        "print(sum)"
      ],
      "metadata": {
        "colab": {
          "base_uri": "https://localhost:8080/"
        },
        "id": "BLbme2I4_4Ik",
        "outputId": "b8316840-2b26-4941-b690-dfb6440c5a78"
      },
      "execution_count": null,
      "outputs": [
        {
          "output_type": "stream",
          "name": "stdout",
          "text": [
            "5050\n"
          ]
        }
      ]
    },
    {
      "cell_type": "code",
      "source": [
        "for i in range(5):\n",
        "  print(i)\n",
        "else:\n",
        "  print('loop is finished')"
      ],
      "metadata": {
        "colab": {
          "base_uri": "https://localhost:8080/"
        },
        "id": "x8M9ffVVBDdh",
        "outputId": "c7e286d9-6b10-4f22-e59d-1f8b63ccf294"
      },
      "execution_count": null,
      "outputs": [
        {
          "output_type": "stream",
          "name": "stdout",
          "text": [
            "0\n",
            "1\n",
            "2\n",
            "3\n",
            "4\n",
            "loop is finished\n"
          ]
        }
      ]
    },
    {
      "cell_type": "markdown",
      "source": [
        "Nested for loop"
      ],
      "metadata": {
        "id": "M6mxpVyODD5r"
      }
    },
    {
      "cell_type": "code",
      "source": [
        "for i in range(0,2):\n",
        "  for j in range(0,3):\n",
        "    for k in range(0,4):\n",
        "      print(f\"i={i},j={j},k={k}\")"
      ],
      "metadata": {
        "colab": {
          "base_uri": "https://localhost:8080/"
        },
        "id": "-8J5eEbPDF-h",
        "outputId": "6fc374b2-021b-4e3b-eb24-58599016d485"
      },
      "execution_count": null,
      "outputs": [
        {
          "output_type": "stream",
          "name": "stdout",
          "text": [
            "i=0,j=0,k=0\n",
            "i=0,j=0,k=1\n",
            "i=0,j=0,k=2\n",
            "i=0,j=0,k=3\n",
            "i=0,j=1,k=0\n",
            "i=0,j=1,k=1\n",
            "i=0,j=1,k=2\n",
            "i=0,j=1,k=3\n",
            "i=0,j=2,k=0\n",
            "i=0,j=2,k=1\n",
            "i=0,j=2,k=2\n",
            "i=0,j=2,k=3\n",
            "i=1,j=0,k=0\n",
            "i=1,j=0,k=1\n",
            "i=1,j=0,k=2\n",
            "i=1,j=0,k=3\n",
            "i=1,j=1,k=0\n",
            "i=1,j=1,k=1\n",
            "i=1,j=1,k=2\n",
            "i=1,j=1,k=3\n",
            "i=1,j=2,k=0\n",
            "i=1,j=2,k=1\n",
            "i=1,j=2,k=2\n",
            "i=1,j=2,k=3\n"
          ]
        }
      ]
    },
    {
      "cell_type": "markdown",
      "source": [
        "Control statement\n",
        "\n",
        "break,continue,pass"
      ],
      "metadata": {
        "id": "9V0nzMezNn96"
      }
    },
    {
      "cell_type": "code",
      "source": [
        "for num in range(1,6):\n",
        "  if num==5:\n",
        "    break\n",
        "print(num)"
      ],
      "metadata": {
        "colab": {
          "base_uri": "https://localhost:8080/"
        },
        "id": "ErZOJH6gNqFC",
        "outputId": "bc6f1615-13f7-4b7d-cae9-f5cb32df0596"
      },
      "execution_count": null,
      "outputs": [
        {
          "output_type": "stream",
          "name": "stdout",
          "text": [
            "5\n"
          ]
        }
      ]
    },
    {
      "cell_type": "code",
      "source": [
        "\n",
        "for num in range(1,10):\n",
        "   if num==2:\n",
        "     continue\n",
        "   print(num)"
      ],
      "metadata": {
        "colab": {
          "base_uri": "https://localhost:8080/"
        },
        "id": "OjkdZgXUOmIS",
        "outputId": "5bb73c7b-c2bb-416a-d934-1161682e981f"
      },
      "execution_count": null,
      "outputs": [
        {
          "output_type": "stream",
          "name": "stdout",
          "text": [
            "1\n",
            "3\n",
            "4\n",
            "5\n",
            "6\n",
            "7\n",
            "8\n",
            "9\n"
          ]
        }
      ]
    },
    {
      "cell_type": "code",
      "source": [
        "for letter in 'summer':\n",
        "  if letter == 'e':\n",
        "    break\n",
        "  print('current letter:',letter)\n",
        "print('the end')"
      ],
      "metadata": {
        "colab": {
          "base_uri": "https://localhost:8080/"
        },
        "id": "njpaBOXRRCAy",
        "outputId": "fc90572d-33b5-4a0a-ff06-c30c38fd497b"
      },
      "execution_count": null,
      "outputs": [
        {
          "output_type": "stream",
          "name": "stdout",
          "text": [
            "current letter: s\n",
            "current letter: u\n",
            "current letter: m\n",
            "current letter: m\n",
            "the end\n"
          ]
        }
      ]
    },
    {
      "cell_type": "code",
      "source": [
        "for letter in 'summer':\n",
        "  if letter == 'e':\n",
        "    continue\n",
        "  print('current letter:',letter)\n",
        "print('the end')"
      ],
      "metadata": {
        "colab": {
          "base_uri": "https://localhost:8080/"
        },
        "id": "nQ-792KXR7Lt",
        "outputId": "315c64c9-2d34-4558-d13c-6511854da970"
      },
      "execution_count": null,
      "outputs": [
        {
          "output_type": "stream",
          "name": "stdout",
          "text": [
            "current letter: s\n",
            "current letter: u\n",
            "current letter: m\n",
            "current letter: m\n",
            "current letter: r\n",
            "the end\n"
          ]
        }
      ]
    },
    {
      "cell_type": "code",
      "source": [
        "for letter in 'summer':\n",
        "  if letter == 'e':\n",
        "    pass\n",
        "  print('current letter:',letter)\n",
        "print('the end')"
      ],
      "metadata": {
        "colab": {
          "base_uri": "https://localhost:8080/"
        },
        "id": "pbgZ9ADuSEiK",
        "outputId": "3a323c4a-3d2a-46e4-85cd-93cecc885764"
      },
      "execution_count": null,
      "outputs": [
        {
          "output_type": "stream",
          "name": "stdout",
          "text": [
            "current letter: s\n",
            "current letter: u\n",
            "current letter: m\n",
            "current letter: m\n",
            "current letter: e\n",
            "current letter: r\n",
            "the end\n"
          ]
        }
      ]
    },
    {
      "cell_type": "code",
      "source": [
        "a=0\n",
        "b=1\n",
        "for num in range(50):\n",
        "   print(a)\n",
        "   num=a+b\n",
        "   a=b\n",
        "   b=num\n"
      ],
      "metadata": {
        "colab": {
          "base_uri": "https://localhost:8080/"
        },
        "collapsed": true,
        "id": "1sePCbCxTR3I",
        "outputId": "7f8d6b8a-ffce-4420-ea7f-8b084757b81c"
      },
      "execution_count": null,
      "outputs": [
        {
          "output_type": "stream",
          "name": "stdout",
          "text": [
            "0\n",
            "1\n",
            "1\n",
            "2\n",
            "3\n",
            "5\n",
            "8\n",
            "13\n",
            "21\n",
            "34\n",
            "55\n",
            "89\n",
            "144\n",
            "233\n",
            "377\n",
            "610\n",
            "987\n",
            "1597\n",
            "2584\n",
            "4181\n",
            "6765\n",
            "10946\n",
            "17711\n",
            "28657\n",
            "46368\n",
            "75025\n",
            "121393\n",
            "196418\n",
            "317811\n",
            "514229\n",
            "832040\n",
            "1346269\n",
            "2178309\n",
            "3524578\n",
            "5702887\n",
            "9227465\n",
            "14930352\n",
            "24157817\n",
            "39088169\n",
            "63245986\n",
            "102334155\n",
            "165580141\n",
            "267914296\n",
            "433494437\n",
            "701408733\n",
            "1134903170\n",
            "1836311903\n",
            "2971215073\n",
            "4807526976\n",
            "7778742049\n"
          ]
        }
      ]
    },
    {
      "cell_type": "code",
      "source": [
        "a=0\n",
        "b=1\n",
        "count=0\n",
        "print('fibonacci series:')\n",
        "print(a, end=' ')        #[end=' '] use for make in series side by side\n",
        "print(b, end=' ')\n",
        "\n",
        "for i in range(2,10):\n",
        "  count=a+b\n",
        "  a=b\n",
        "  b=count\n",
        "  print(count, end=' ')\n"
      ],
      "metadata": {
        "colab": {
          "base_uri": "https://localhost:8080/"
        },
        "id": "GHa9TseyWsUb",
        "outputId": "af11f7ca-39a4-4973-95b3-7f7524b78b5a"
      },
      "execution_count": null,
      "outputs": [
        {
          "output_type": "stream",
          "name": "stdout",
          "text": [
            "fibonacci series:\n",
            "0 1 1 2 3 5 8 13 21 34 "
          ]
        }
      ]
    }
  ]
}