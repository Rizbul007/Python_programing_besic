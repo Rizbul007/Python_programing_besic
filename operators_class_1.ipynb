{
  "nbformat": 4,
  "nbformat_minor": 0,
  "metadata": {
    "colab": {
      "provenance": [],
      "authorship_tag": "ABX9TyMRs/7Lyjv8sDbw2KZbmZk9",
      "include_colab_link": true
    },
    "kernelspec": {
      "name": "python3",
      "display_name": "Python 3"
    },
    "language_info": {
      "name": "python"
    }
  },
  "cells": [
    {
      "cell_type": "markdown",
      "metadata": {
        "id": "view-in-github",
        "colab_type": "text"
      },
      "source": [
        "<a href=\"https://colab.research.google.com/github/Rizbul007/Python_programing_besic/blob/master/operators_class_1.ipynb\" target=\"_parent\"><img src=\"https://colab.research.google.com/assets/colab-badge.svg\" alt=\"Open In Colab\"/></a>"
      ]
    },
    {
      "cell_type": "markdown",
      "source": [
        "Operators"
      ],
      "metadata": {
        "id": "kAmLVbo9n88e"
      }
    },
    {
      "cell_type": "code",
      "execution_count": null,
      "metadata": {
        "colab": {
          "base_uri": "https://localhost:8080/"
        },
        "id": "wl-vQXmskD5w",
        "outputId": "472f4785-e4d4-4999-b9c4-a0eb88b421e5"
      },
      "outputs": [
        {
          "output_type": "stream",
          "name": "stdout",
          "text": [
            "11\n"
          ]
        }
      ],
      "source": [
        "print('sum:',5+6)"
      ]
    },
    {
      "cell_type": "code",
      "source": [
        "print('sub:' ,5-4)"
      ],
      "metadata": {
        "colab": {
          "base_uri": "https://localhost:8080/"
        },
        "id": "EFGyzgZdkQjt",
        "outputId": "3dcf48d0-0d49-40d0-a7ad-01d0e1cad795"
      },
      "execution_count": null,
      "outputs": [
        {
          "output_type": "stream",
          "name": "stdout",
          "text": [
            "sub: 1\n"
          ]
        }
      ]
    },
    {
      "cell_type": "code",
      "source": [
        "print('div:',6/3)"
      ],
      "metadata": {
        "colab": {
          "base_uri": "https://localhost:8080/"
        },
        "id": "Tvmgl3mTkiV2",
        "outputId": "100a6abc-cc21-4438-ce07-3ad5dbab10de"
      },
      "execution_count": null,
      "outputs": [
        {
          "output_type": "stream",
          "name": "stdout",
          "text": [
            "2.0\n"
          ]
        }
      ]
    },
    {
      "cell_type": "code",
      "source": [
        "print('floor division:', 5//2)"
      ],
      "metadata": {
        "colab": {
          "base_uri": "https://localhost:8080/"
        },
        "id": "VgWojW0wknX-",
        "outputId": "a078c064-7714-4f4e-8502-8c5b076da642"
      },
      "execution_count": null,
      "outputs": [
        {
          "output_type": "stream",
          "name": "stdout",
          "text": [
            "floor division: 2\n"
          ]
        }
      ]
    },
    {
      "cell_type": "markdown",
      "source": [
        "Assignment Operators"
      ],
      "metadata": {
        "id": "mDCOSBDWn0Yz"
      }
    },
    {
      "cell_type": "code",
      "source": [
        "a= 10\n",
        "b= 3\n",
        "a%=b\n",
        "print(a)\n"
      ],
      "metadata": {
        "colab": {
          "base_uri": "https://localhost:8080/"
        },
        "id": "niIz6Ftml6zF",
        "outputId": "215df6de-4d32-458d-85e7-37933f58359d"
      },
      "execution_count": null,
      "outputs": [
        {
          "output_type": "stream",
          "name": "stdout",
          "text": [
            "1\n"
          ]
        }
      ]
    },
    {
      "cell_type": "code",
      "source": [
        "a=4\n",
        "b=3\n",
        "a//=b\n",
        "print('floor:',a)"
      ],
      "metadata": {
        "colab": {
          "base_uri": "https://localhost:8080/"
        },
        "id": "yBvsSbDZnhrI",
        "outputId": "ca669f65-52b0-4405-c018-14138722dec3"
      },
      "execution_count": null,
      "outputs": [
        {
          "output_type": "stream",
          "name": "stdout",
          "text": [
            "floor: 1\n"
          ]
        }
      ]
    },
    {
      "cell_type": "code",
      "source": [
        "a=2\n",
        "b=3\n",
        "a**=b\n",
        "print('power:',a)"
      ],
      "metadata": {
        "colab": {
          "base_uri": "https://localhost:8080/"
        },
        "id": "HR6Mq41an6YL",
        "outputId": "95bac4d6-44d8-48d8-8269-fedd50171bfa"
      },
      "execution_count": null,
      "outputs": [
        {
          "output_type": "stream",
          "name": "stdout",
          "text": [
            "power: 8\n"
          ]
        }
      ]
    },
    {
      "cell_type": "markdown",
      "source": [
        "Comperison"
      ],
      "metadata": {
        "id": "BAnw4cvkqs2M"
      }
    },
    {
      "cell_type": "code",
      "source": [
        "a=3\n",
        "b=2\n",
        "#equal operator\n",
        "print('a==b =',a==b)\n",
        "#not equal operator\n",
        "print('a!=b =',a!=b)\n",
        "#greater than oparetor\n",
        "print('a>b =',a>b)\n",
        "#less than operator\n",
        "print('a<b =',a<b)\n",
        "#greater than or equal operator\n",
        "print('a>=b =',a>=b)\n",
        "#less than or equal operator\n",
        "print('a<=b =',a<=b)"
      ],
      "metadata": {
        "colab": {
          "base_uri": "https://localhost:8080/"
        },
        "id": "5q95zG4yqvVD",
        "outputId": "c82a7be1-2a4e-44e0-c69f-95cbab88972e"
      },
      "execution_count": null,
      "outputs": [
        {
          "output_type": "stream",
          "name": "stdout",
          "text": [
            "a==b = False\n",
            "a!=b = True\n",
            "a>b = True\n",
            "a<b = False\n",
            "a>=b = True\n",
            "a<=b = False\n"
          ]
        }
      ]
    },
    {
      "cell_type": "markdown",
      "source": [
        "Logical Operators"
      ],
      "metadata": {
        "id": "3RkGdpdMtNQr"
      }
    },
    {
      "cell_type": "code",
      "source": [
        "a=5\n",
        "print(a>3 and a<10)\n",
        "print(a>3 or a<4)\n",
        "print(not (a>3 and a<10))"
      ],
      "metadata": {
        "colab": {
          "base_uri": "https://localhost:8080/"
        },
        "id": "EFX7rGkntPhz",
        "outputId": "043f5513-7b4b-4b71-cb8c-56edbf4eead6"
      },
      "execution_count": null,
      "outputs": [
        {
          "output_type": "stream",
          "name": "stdout",
          "text": [
            "True\n",
            "True\n",
            "False\n"
          ]
        }
      ]
    },
    {
      "cell_type": "markdown",
      "source": [
        "Logical Operator"
      ],
      "metadata": {
        "id": "ZlHQs7urvcKr"
      }
    },
    {
      "cell_type": "code",
      "source": [
        "a=5\n",
        "b=3\n",
        "print(a&b)\n",
        "print(a|b)\n",
        "print(~a)\n",
        "print(a^b)\n",
        "print(a>>1)\n",
        "print(a<<2)"
      ],
      "metadata": {
        "colab": {
          "base_uri": "https://localhost:8080/"
        },
        "id": "zM4LFZsqve4l",
        "outputId": "2795ada8-0071-479d-b343-7fee8244da6a"
      },
      "execution_count": null,
      "outputs": [
        {
          "output_type": "stream",
          "name": "stdout",
          "text": [
            "1\n",
            "7\n",
            "-6\n",
            "6\n",
            "2\n",
            "20\n"
          ]
        }
      ]
    },
    {
      "cell_type": "markdown",
      "source": [
        "Special Operator"
      ],
      "metadata": {
        "id": "Lhd8Tb0c8cL9"
      }
    },
    {
      "cell_type": "code",
      "source": [
        "#Identitiy Operator\n",
        "a=10\n",
        "b=10\n",
        "c=20\n",
        "message='Hello world'\n",
        "print(a is b) #identify sharing same object -> is\n",
        "print(a is c)\n",
        "print (a is not c) # identify sharing not same object -> is not\n",
        "\n",
        "#Membership Operator(use most in field)\n",
        "print('H' in message)\n",
        "print('Hello' not in message) #word and letter must be same in order A and a is different\n"
      ],
      "metadata": {
        "colab": {
          "base_uri": "https://localhost:8080/"
        },
        "id": "fPzFeDzX8e6y",
        "outputId": "3840b308-aff6-48a6-c619-61a07b90936c"
      },
      "execution_count": null,
      "outputs": [
        {
          "output_type": "stream",
          "name": "stdout",
          "text": [
            "True\n",
            "False\n",
            "True\n",
            "True\n",
            "False\n"
          ]
        }
      ]
    },
    {
      "cell_type": "markdown",
      "source": [
        "Execise"
      ],
      "metadata": {
        "id": "L-tV0YDH_vFK"
      }
    },
    {
      "cell_type": "code",
      "source": [
        "number= int(input('enter a number:'))\n",
        "if number> 10 and number %2 == 0:\n",
        "  print (number,'is greater than 10 and even.')\n",
        "else:\n",
        "  print(number,'is not both greater than 10 and even.')\n"
      ],
      "metadata": {
        "colab": {
          "base_uri": "https://localhost:8080/"
        },
        "id": "JilhMeKEAOCB",
        "outputId": "bb523039-c9c7-488e-8c6f-b646f25092c9"
      },
      "execution_count": null,
      "outputs": [
        {
          "output_type": "stream",
          "name": "stdout",
          "text": [
            "enter a number:12\n",
            "12 is greater than 10 and even.\n"
          ]
        }
      ]
    },
    {
      "cell_type": "code",
      "source": [
        "year=2012\n",
        "if (year % 4==0 and year %100!=0) or (year%400== 0):\n",
        "  print(year,'number is leap year:')\n",
        "\n",
        "else:\n",
        "  print(year,'number is not leap year:')\n",
        "\n"
      ],
      "metadata": {
        "colab": {
          "base_uri": "https://localhost:8080/"
        },
        "id": "urb6dvwGDUsh",
        "outputId": "128bfcc0-791d-48bf-a024-3839b60f3c85"
      },
      "execution_count": null,
      "outputs": [
        {
          "output_type": "stream",
          "name": "stdout",
          "text": [
            "2012 number is leap year:\n"
          ]
        }
      ]
    }
  ]
}