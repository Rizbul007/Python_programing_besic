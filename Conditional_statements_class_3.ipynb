{
  "nbformat": 4,
  "nbformat_minor": 0,
  "metadata": {
    "colab": {
      "provenance": [],
      "authorship_tag": "ABX9TyNxfgNXVAVDbb7ASwqxiBvY",
      "include_colab_link": true
    },
    "kernelspec": {
      "name": "python3",
      "display_name": "Python 3"
    },
    "language_info": {
      "name": "python"
    }
  },
  "cells": [
    {
      "cell_type": "markdown",
      "metadata": {
        "id": "view-in-github",
        "colab_type": "text"
      },
      "source": [
        "<a href=\"https://colab.research.google.com/github/Rizbul007/Python_programing_besic/blob/master/Conditional_statements_class_3.ipynb\" target=\"_parent\"><img src=\"https://colab.research.google.com/assets/colab-badge.svg\" alt=\"Open In Colab\"/></a>"
      ]
    },
    {
      "cell_type": "markdown",
      "source": [
        "If statements"
      ],
      "metadata": {
        "id": "vnCfmGeEr-Yi"
      }
    },
    {
      "cell_type": "code",
      "source": [
        "x=4\n",
        "if x<5:\n",
        "  print(\"x is less than 5\")\n"
      ],
      "metadata": {
        "colab": {
          "base_uri": "https://localhost:8080/"
        },
        "id": "H6LyLWPFsBBi",
        "outputId": "cb26138c-1fb9-4c20-e82b-c27043c55de1"
      },
      "execution_count": null,
      "outputs": [
        {
          "output_type": "stream",
          "name": "stdout",
          "text": [
            "x is less than 5\n"
          ]
        }
      ]
    },
    {
      "cell_type": "markdown",
      "source": [
        "Else statemnets"
      ],
      "metadata": {
        "id": "rk2MJfILskmL"
      }
    },
    {
      "cell_type": "code",
      "source": [
        "x=int(input('enter a number'))\n",
        "if x%2==0:\n",
        "  print('x is even')\n",
        "else:\n",
        "  print('x is odd')"
      ],
      "metadata": {
        "colab": {
          "base_uri": "https://localhost:8080/"
        },
        "id": "nwFwFQRusmML",
        "outputId": "18ecd8f2-85ac-4e7e-81b5-8b89c6370cbc"
      },
      "execution_count": null,
      "outputs": [
        {
          "output_type": "stream",
          "name": "stdout",
          "text": [
            "enter a number6\n",
            "x is even\n"
          ]
        }
      ]
    },
    {
      "cell_type": "markdown",
      "source": [
        "Else if statement(elif)"
      ],
      "metadata": {
        "id": "XfBR3JmTt9zJ"
      }
    },
    {
      "cell_type": "code",
      "source": [
        "x=7\n",
        "if x>7:\n",
        " print('x is greater than 10')\n",
        "elif x==7:\n",
        "  print('x is equal to 7')\n",
        "else:\n",
        "  print('x is less than 10 and not equal to 7')"
      ],
      "metadata": {
        "colab": {
          "base_uri": "https://localhost:8080/"
        },
        "id": "6i0peojRuAnp",
        "outputId": "bee8f5c4-8caa-4050-ce7f-000508409ff6"
      },
      "execution_count": null,
      "outputs": [
        {
          "output_type": "stream",
          "name": "stdout",
          "text": [
            "x is equal to 7\n"
          ]
        }
      ]
    },
    {
      "cell_type": "markdown",
      "source": [
        "Nested if"
      ],
      "metadata": {
        "id": "ueKLEjszvx45"
      }
    },
    {
      "cell_type": "code",
      "source": [
        "x=int(input('Enter the number'))\n",
        "if x>0:\n",
        "  print ('X is positive')\n",
        "  if x%2==0:\n",
        "    print('x is even')\n",
        "  else:\n",
        "    print('x is odd')\n",
        "else:\n",
        "  print('number is negative')"
      ],
      "metadata": {
        "colab": {
          "base_uri": "https://localhost:8080/"
        },
        "id": "Jbf_BAVXvz0p",
        "outputId": "1f847414-d328-4812-b329-754182134b41"
      },
      "execution_count": null,
      "outputs": [
        {
          "output_type": "stream",
          "name": "stdout",
          "text": [
            "Enter the number-1\n",
            "number is negative\n"
          ]
        }
      ]
    },
    {
      "cell_type": "markdown",
      "source": [
        "else if ledder"
      ],
      "metadata": {
        "id": "hEiSbUvg0uoP"
      }
    },
    {
      "cell_type": "code",
      "source": [
        "x=5\n",
        "if x>10:\n",
        "  print('x is greater than 10')\n",
        "elif x>5:\n",
        "  print('x is greater than 5 but less than 10')\n",
        "elif x==5:\n",
        "  print('x is equal to 5')\n",
        "else:\n",
        "  prnt('x is less than 5')"
      ],
      "metadata": {
        "colab": {
          "base_uri": "https://localhost:8080/"
        },
        "id": "PJM3f5-s0yoP",
        "outputId": "a147daa4-b8fe-49d8-cbfb-3d292cd46374"
      },
      "execution_count": null,
      "outputs": [
        {
          "output_type": "stream",
          "name": "stdout",
          "text": [
            "x is equal to 5\n"
          ]
        }
      ]
    },
    {
      "cell_type": "markdown",
      "source": [
        "Ternary (conditional) operator"
      ],
      "metadata": {
        "id": "qQYifSWA2zs-"
      }
    },
    {
      "cell_type": "code",
      "source": [
        "x=int(input('Enter the number:'))\n",
        "y=int(input('Enter the number:'))\n",
        "\n",
        "min_value=x if x<y else y\n",
        "print(min_value)"
      ],
      "metadata": {
        "colab": {
          "base_uri": "https://localhost:8080/"
        },
        "id": "rZwuHakg25yu",
        "outputId": "05b5b3c1-f54f-4e92-9e4c-3bef2d0565ec"
      },
      "execution_count": null,
      "outputs": [
        {
          "output_type": "stream",
          "name": "stdout",
          "text": [
            "Enter the number:10\n",
            "Enter the number:20\n",
            "10\n"
          ]
        }
      ]
    },
    {
      "cell_type": "code",
      "source": [
        "x=10\n",
        "result= 'even' if x%2==0 else 'odd'\n",
        "print(result)"
      ],
      "metadata": {
        "colab": {
          "base_uri": "https://localhost:8080/"
        },
        "id": "JYGiCR9U35G-",
        "outputId": "0238851a-0e4e-4340-d2a5-85c35da923e3"
      },
      "execution_count": null,
      "outputs": [
        {
          "output_type": "stream",
          "name": "stdout",
          "text": [
            "even\n"
          ]
        }
      ]
    },
    {
      "cell_type": "markdown",
      "source": [
        "Multiple condition"
      ],
      "metadata": {
        "id": "ghRYH6dcAunx"
      }
    },
    {
      "cell_type": "code",
      "source": [
        "#and\n",
        "x=10\n",
        "if x>5 and x<15:\n",
        "  print('x is between 5 and 15')\n",
        "\n",
        "#or\n",
        "x=10\n",
        "if x<5 or x>8:\n",
        "  print('x is either less then 5 or greater than 8')"
      ],
      "metadata": {
        "colab": {
          "base_uri": "https://localhost:8080/"
        },
        "id": "yUMLkTOPAywp",
        "outputId": "3c6031f4-2299-4e77-b428-bb583fc392d1"
      },
      "execution_count": null,
      "outputs": [
        {
          "output_type": "stream",
          "name": "stdout",
          "text": [
            "x is between 5 and 15\n",
            "x is either less then 5 or greater than 8\n"
          ]
        }
      ]
    },
    {
      "cell_type": "markdown",
      "source": [
        "pass statement"
      ],
      "metadata": {
        "id": "utneaKQqCeBp"
      }
    },
    {
      "cell_type": "code",
      "source": [
        "x=5\n",
        "if x>5:\n",
        "  pass\n",
        "else:\n",
        "  print('x is not greater than 5')"
      ],
      "metadata": {
        "colab": {
          "base_uri": "https://localhost:8080/"
        },
        "id": "cuUbS-VrCgCC",
        "outputId": "18c22f16-4012-447f-c8e5-f7825a431a0c"
      },
      "execution_count": null,
      "outputs": [
        {
          "output_type": "stream",
          "name": "stdout",
          "text": [
            "x is not greater than 5\n"
          ]
        }
      ]
    },
    {
      "cell_type": "markdown",
      "source": [
        "Chained condition"
      ],
      "metadata": {
        "id": "fjGLuld0D5wS"
      }
    },
    {
      "cell_type": "code",
      "source": [
        "x=8\n",
        "if 5<x<10:\n",
        "  print('x is between 5 and 10')"
      ],
      "metadata": {
        "colab": {
          "base_uri": "https://localhost:8080/"
        },
        "id": "pxnJ4--ID8hh",
        "outputId": "1f3ec7a1-9e42-46fe-e5bf-3464b3f002e9"
      },
      "execution_count": null,
      "outputs": [
        {
          "output_type": "stream",
          "name": "stdout",
          "text": [
            "x is between 5 and 10\n"
          ]
        }
      ]
    },
    {
      "cell_type": "markdown",
      "source": [
        "Exercise"
      ],
      "metadata": {
        "id": "sbbHPXeHEnlg"
      }
    },
    {
      "cell_type": "code",
      "source": [
        "x=int(input('enter the number:'))\n",
        "if 90<=x<=100:\n",
        "  print('Grade A')\n",
        "elif 80<=x<=89:\n",
        "  print('Grade B')\n",
        "elif 70<=x<=79:\n",
        "  print('Grade C')\n",
        "elif 60<=x<=69:\n",
        "  print('Grade D')\n",
        "elif 0<=x<=59:\n",
        "  print('Grade F')\n",
        "else:\n",
        "  print('invalid')\n"
      ],
      "metadata": {
        "colab": {
          "base_uri": "https://localhost:8080/"
        },
        "id": "c6pGJ1f0ErwB",
        "outputId": "4c62ff9c-b78d-4ec3-93ea-84471e3625f3"
      },
      "execution_count": null,
      "outputs": [
        {
          "output_type": "stream",
          "name": "stdout",
          "text": [
            "enter the number:59\n",
            "Grade F\n"
          ]
        }
      ]
    },
    {
      "cell_type": "code",
      "source": [
        "weight=float(input('enter the number:'))\n",
        "Height=float(input('enter the number:'))\n",
        "BMI= weight/Height\n",
        "if BMI<18.5:\n",
        "  print('underweight')\n",
        "elif 18.5<=BMI<24.9:\n",
        "  print('normal weight')\n",
        "elif 25<=BMI<29.9:\n",
        "  print('overweight')\n",
        "elif BMI>=30:\n",
        "  print('obesity')\n",
        "else:\n",
        "  print('dead')"
      ],
      "metadata": {
        "colab": {
          "base_uri": "https://localhost:8080/"
        },
        "id": "pG-lSx-VJUvX",
        "outputId": "9f3bcc07-22ab-45ab-d1ac-bc13e5c0db5e"
      },
      "execution_count": null,
      "outputs": [
        {
          "output_type": "stream",
          "name": "stdout",
          "text": [
            "enter the number:50\n",
            "enter the number:1.70\n",
            "overweight\n"
          ]
        }
      ]
    }
  ]
}