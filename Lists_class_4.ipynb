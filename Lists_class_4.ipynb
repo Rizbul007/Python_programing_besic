{
  "nbformat": 4,
  "nbformat_minor": 0,
  "metadata": {
    "colab": {
      "provenance": [],
      "authorship_tag": "ABX9TyNEDDjzNraTVPWIELVuhsoO",
      "include_colab_link": true
    },
    "kernelspec": {
      "name": "python3",
      "display_name": "Python 3"
    },
    "language_info": {
      "name": "python"
    }
  },
  "cells": [
    {
      "cell_type": "markdown",
      "metadata": {
        "id": "view-in-github",
        "colab_type": "text"
      },
      "source": [
        "<a href=\"https://colab.research.google.com/github/Rizbul007/Python_programing_besic/blob/master/Lists_class_4.ipynb\" target=\"_parent\"><img src=\"https://colab.research.google.com/assets/colab-badge.svg\" alt=\"Open In Colab\"/></a>"
      ]
    },
    {
      "cell_type": "markdown",
      "source": [
        "List"
      ],
      "metadata": {
        "id": "_yXGahfr_LHr"
      }
    },
    {
      "cell_type": "code",
      "execution_count": null,
      "metadata": {
        "colab": {
          "base_uri": "https://localhost:8080/"
        },
        "id": "DIaRggx-_DR1",
        "outputId": "465cd32f-4fd6-47ea-d340-11bbaa734f9c"
      },
      "outputs": [
        {
          "output_type": "stream",
          "name": "stdout",
          "text": [
            "jabbar\n"
          ]
        }
      ],
      "source": [
        "studentlist=['12.5','safiq','jabbar']\n",
        "print(studentlist[2])"
      ]
    },
    {
      "cell_type": "markdown",
      "source": [
        "negative idexing\n",
        "\n",
        " 0 1 2 3 4 5(ptv)\n",
        "\n",
        " -6 -5 -4 -3 -2 -1(neg)"
      ],
      "metadata": {
        "id": "53zF5jdHB1Ds"
      }
    },
    {
      "cell_type": "code",
      "source": [
        "studentlist=['12.5','safiq','jabbar']\n",
        "print(studentlist[-1])"
      ],
      "metadata": {
        "colab": {
          "base_uri": "https://localhost:8080/"
        },
        "id": "KTnud1WuB3cr",
        "outputId": "1e4726d1-16ec-4e04-bbe5-c03917b507a4"
      },
      "execution_count": null,
      "outputs": [
        {
          "output_type": "stream",
          "name": "stdout",
          "text": [
            "jabbar\n"
          ]
        }
      ]
    },
    {
      "cell_type": "markdown",
      "source": [
        "List Slicing\n",
        "\n",
        "if we need 3 index we use 4 num index\n"
      ],
      "metadata": {
        "id": "zq5DPfpRCp9z"
      }
    },
    {
      "cell_type": "code",
      "source": [
        "studentlist=[20,21,22,23,24,25,26,27,28]\n",
        "take=studentlist[3:6]\n",
        "print(take)\n"
      ],
      "metadata": {
        "colab": {
          "base_uri": "https://localhost:8080/"
        },
        "id": "Fzyhx7JuCsjz",
        "outputId": "59013c4e-1fbc-475a-e591-c682f638e45d"
      },
      "execution_count": null,
      "outputs": [
        {
          "output_type": "stream",
          "name": "stdout",
          "text": [
            "[20, 21, 22, 23, 24, 25, 26]\n"
          ]
        }
      ]
    },
    {
      "cell_type": "code",
      "source": [
        "studentlist =[1,2,3,4,5,6,7,8,9,10,11,12,13,14,15]\n",
        "take=studentlist[5:12]\n",
        "print(take)\n",
        "take=studentlist[ :5]\n",
        "print(take)\n",
        "take=studentlist[-3: ]\n",
        "print(take)\n",
        "take=studentlist[ : ]\n",
        "print(take)"
      ],
      "metadata": {
        "colab": {
          "base_uri": "https://localhost:8080/"
        },
        "id": "ZbKs7BT3FCWF",
        "outputId": "721b00e3-69a9-49e5-ee49-6bc8f6ba34aa"
      },
      "execution_count": null,
      "outputs": [
        {
          "output_type": "stream",
          "name": "stdout",
          "text": [
            "[6, 7, 8, 9, 10, 11]\n",
            "[1, 2, 3, 4, 5]\n",
            "[13, 14, 15]\n",
            "[1, 2, 3, 4, 5, 6, 7, 8, 9, 10, 11, 12, 13, 14, 15]\n"
          ]
        }
      ]
    },
    {
      "cell_type": "code",
      "source": [
        "studentlist =[1,2,3,4,5,6,7,8,9,10,11,12,13,14,15]\n",
        "take = studentlist[1:14:2]\n",
        "print(take)"
      ],
      "metadata": {
        "colab": {
          "base_uri": "https://localhost:8080/"
        },
        "id": "j42LdShBIFhk",
        "outputId": "abd94693-4ce7-4fc5-e53f-5069664e43bf"
      },
      "execution_count": null,
      "outputs": [
        {
          "output_type": "stream",
          "name": "stdout",
          "text": [
            "[2, 4, 6, 8, 10, 12, 14]\n"
          ]
        }
      ]
    },
    {
      "cell_type": "markdown",
      "source": [
        "Modifiying list eliments"
      ],
      "metadata": {
        "id": "Zf3xb12HOD3Y"
      }
    },
    {
      "cell_type": "code",
      "source": [
        "carlist=['bmw','gtr','toyota','nissan','honda']\n",
        "carlist[-1]='RR'\n",
        "print(carlist)"
      ],
      "metadata": {
        "colab": {
          "base_uri": "https://localhost:8080/"
        },
        "id": "C-67lxZGOHHP",
        "outputId": "bc6a026b-49c9-4577-c7ef-b98875b59080"
      },
      "execution_count": null,
      "outputs": [
        {
          "output_type": "stream",
          "name": "stdout",
          "text": [
            "['bmw', 'gtr', 'toyota', 'nissan', 'RR']\n"
          ]
        }
      ]
    },
    {
      "cell_type": "markdown",
      "source": [
        "append() #only one value in the end of the list\n",
        "\n",
        "extend() # can add mulitipl value in the list"
      ],
      "metadata": {
        "id": "lwS18GHmOlFR"
      }
    },
    {
      "cell_type": "code",
      "source": [
        "carlist=['bmw','gtr','toyota','nissan','honda']\n",
        "carlist.append('RR')\n",
        "print(carlist)\n",
        "carlist.extend(['RR','f1'])\n",
        "print(carlist)"
      ],
      "metadata": {
        "colab": {
          "base_uri": "https://localhost:8080/"
        },
        "id": "SPYfwrrKOnUA",
        "outputId": "0e9398bd-aac7-4c19-8b1b-e0c24164bb98"
      },
      "execution_count": null,
      "outputs": [
        {
          "output_type": "stream",
          "name": "stdout",
          "text": [
            "['bmw', 'gtr', 'toyota', 'nissan', 'honda', 'RR']\n",
            "['bmw', 'gtr', 'toyota', 'nissan', 'honda', 'RR', 'RR', 'f1']\n"
          ]
        }
      ]
    },
    {
      "cell_type": "markdown",
      "source": [
        "inserting eliments in list"
      ],
      "metadata": {
        "id": "AE6ZbMOOQj0I"
      }
    },
    {
      "cell_type": "code",
      "source": [
        "carlist=['bmw','gtr','toyota','nissan','honda']\n",
        "carlist.insert(1,'RR')\n",
        "print(carlist)"
      ],
      "metadata": {
        "colab": {
          "base_uri": "https://localhost:8080/"
        },
        "id": "8MCJXK0PQmVw",
        "outputId": "00588283-f35c-49bd-90f2-dd79a8d225ad"
      },
      "execution_count": null,
      "outputs": [
        {
          "output_type": "stream",
          "name": "stdout",
          "text": [
            "['bmw', 'RR', 'gtr', 'toyota', 'nissan', 'honda']\n"
          ]
        }
      ]
    },
    {
      "cell_type": "markdown",
      "source": [
        "removing item from list\n",
        "\n",
        "1.remove() #specific elimet remove\n",
        "\n",
        "2.pop() #call index to remove eliment\n",
        "\n",
        "3.clear() #remove everything from list"
      ],
      "metadata": {
        "id": "37wyqoEERSkA"
      }
    },
    {
      "cell_type": "code",
      "source": [
        "carlist=['bmw','gtr','toyota','nissan','honda']\n",
        "carlist.remove('honda')\n",
        "print(carlist)"
      ],
      "metadata": {
        "colab": {
          "base_uri": "https://localhost:8080/"
        },
        "id": "wCYONvxsRWfv",
        "outputId": "f0b9810a-669a-432b-841b-e9f1af3ddc95"
      },
      "execution_count": null,
      "outputs": [
        {
          "output_type": "stream",
          "name": "stdout",
          "text": [
            "['bmw', 'gtr', 'toyota', 'nissan']\n"
          ]
        }
      ]
    },
    {
      "cell_type": "code",
      "source": [
        "carlist=['bmw','gtr','toyota','nissan','honda']\n",
        "popped_car=carlist.pop(2)\n",
        "print(popped_car)\n",
        "print(carlist)\n"
      ],
      "metadata": {
        "colab": {
          "base_uri": "https://localhost:8080/"
        },
        "id": "Y9ZJGzRTR_Wh",
        "outputId": "a5f76c6c-6fb3-4362-b6df-b78edecffaff"
      },
      "execution_count": null,
      "outputs": [
        {
          "output_type": "stream",
          "name": "stdout",
          "text": [
            "toyota\n",
            "['bmw', 'gtr', 'nissan', 'honda']\n"
          ]
        }
      ]
    },
    {
      "cell_type": "code",
      "source": [
        "carlist=['bmw','gtr','toyota','nissan','honda']\n",
        "carlist.clear()\n",
        "print(carlist)"
      ],
      "metadata": {
        "colab": {
          "base_uri": "https://localhost:8080/"
        },
        "id": "hs8euSKMSlkR",
        "outputId": "d295308f-7b0a-444e-e3ce-2154e942c825"
      },
      "execution_count": null,
      "outputs": [
        {
          "output_type": "stream",
          "name": "stdout",
          "text": [
            "[]\n"
          ]
        }
      ]
    },
    {
      "cell_type": "markdown",
      "source": [
        "List Comprehension"
      ],
      "metadata": {
        "id": "SpgnECC8S7QJ"
      }
    },
    {
      "cell_type": "code",
      "source": [
        "number=[x**2 for x in range(2,11)]\n",
        "print(number)"
      ],
      "metadata": {
        "colab": {
          "base_uri": "https://localhost:8080/"
        },
        "id": "ZPHf2EmnS985",
        "outputId": "abc1407c-78ba-4691-e62a-164f2620eefb"
      },
      "execution_count": null,
      "outputs": [
        {
          "output_type": "stream",
          "name": "stdout",
          "text": [
            "[4, 9, 16, 25, 36, 49, 64, 81, 100]\n"
          ]
        }
      ]
    },
    {
      "cell_type": "markdown",
      "source": [
        "Sorting list assending order\n",
        "\n",
        "sort()\n",
        "\n",
        "sorted()"
      ],
      "metadata": {
        "id": "XE54VZ-1Uvp6"
      }
    },
    {
      "cell_type": "code",
      "source": [
        "carlist=['bmw','gtr','toyota','nissan','honda']\n",
        "carlist.sort()\n",
        "print(carlist)"
      ],
      "metadata": {
        "colab": {
          "base_uri": "https://localhost:8080/"
        },
        "id": "nI-pwzqrU1KR",
        "outputId": "7c4014f8-c1e1-45df-bdb2-3695f52f4e77"
      },
      "execution_count": null,
      "outputs": [
        {
          "output_type": "stream",
          "name": "stdout",
          "text": [
            "['bmw', 'gtr', 'honda', 'nissan', 'toyota']\n"
          ]
        }
      ]
    },
    {
      "cell_type": "code",
      "source": [
        "carlist=['bmw','gtr','toyota','nissan','honda']\n",
        "sorted_cars= sorted(carlist)\n",
        "print(sorted_cars)\n",
        "print(carlist)"
      ],
      "metadata": {
        "colab": {
          "base_uri": "https://localhost:8080/"
        },
        "id": "0syg0DgLVfgj",
        "outputId": "d38e0f4d-70c5-41ab-94a7-df594fa1b3a2"
      },
      "execution_count": null,
      "outputs": [
        {
          "output_type": "stream",
          "name": "stdout",
          "text": [
            "['bmw', 'gtr', 'honda', 'nissan', 'toyota']\n",
            "['bmw', 'gtr', 'toyota', 'nissan', 'honda']\n"
          ]
        }
      ]
    },
    {
      "cell_type": "markdown",
      "source": [
        "Reverse\n",
        "\n",
        "1. reversed()\n",
        "\n",
        "2. reversed()"
      ],
      "metadata": {
        "id": "me8YUmk8WZN6"
      }
    },
    {
      "cell_type": "code",
      "source": [
        "carlist=['bmw','gtr','toyota','nissan','honda']\n",
        "carlist.reverse()\n",
        "print(carlist)"
      ],
      "metadata": {
        "colab": {
          "base_uri": "https://localhost:8080/"
        },
        "id": "yl7dksF1W2qz",
        "outputId": "82f27ac9-b83c-4499-e452-2594269fc071"
      },
      "execution_count": null,
      "outputs": [
        {
          "output_type": "stream",
          "name": "stdout",
          "text": [
            "['honda', 'nissan', 'toyota', 'gtr', 'bmw']\n"
          ]
        }
      ]
    },
    {
      "cell_type": "code",
      "source": [
        "carlist=['bmw','gtr','toyota','nissan','honda']\n",
        "reversedlist=list(reversed(carlist))\n",
        "print(reversedlist)\n",
        "print(carlist)"
      ],
      "metadata": {
        "colab": {
          "base_uri": "https://localhost:8080/"
        },
        "id": "1KjdeLa9XZj7",
        "outputId": "1fdef148-b1bb-4a3b-b2d2-e6a5d0ae7e04"
      },
      "execution_count": null,
      "outputs": [
        {
          "output_type": "stream",
          "name": "stdout",
          "text": [
            "['honda', 'nissan', 'toyota', 'gtr', 'bmw']\n",
            "['bmw', 'gtr', 'toyota', 'nissan', 'honda']\n"
          ]
        }
      ]
    },
    {
      "cell_type": "markdown",
      "source": [
        "copying list"
      ],
      "metadata": {
        "id": "LBf7-VarYAWj"
      }
    },
    {
      "cell_type": "code",
      "source": [
        "carlist=['bmw','gtr','toyota','nissan','honda']\n",
        "copylist=carlist.copy()\n",
        "print(copylist)"
      ],
      "metadata": {
        "colab": {
          "base_uri": "https://localhost:8080/"
        },
        "id": "josjOb__YDPs",
        "outputId": "1c86d729-744d-4ab6-ba8c-8e01b823c454"
      },
      "execution_count": null,
      "outputs": [
        {
          "output_type": "stream",
          "name": "stdout",
          "text": [
            "['bmw', 'gtr', 'toyota', 'nissan', 'honda']\n"
          ]
        }
      ]
    },
    {
      "cell_type": "markdown",
      "source": [
        "finding length of a list"
      ],
      "metadata": {
        "id": "kuxJkblGYrA0"
      }
    },
    {
      "cell_type": "code",
      "source": [
        "carlist=['bmw','gtr','toyota','nissan','honda']\n",
        "number=len(carlist)\n",
        "print(number)"
      ],
      "metadata": {
        "colab": {
          "base_uri": "https://localhost:8080/"
        },
        "id": "FkrVigD5Yvnr",
        "outputId": "593c54a5-3154-4009-b4ff-e729f152a5bb"
      },
      "execution_count": null,
      "outputs": [
        {
          "output_type": "stream",
          "name": "stdout",
          "text": [
            "5\n"
          ]
        }
      ]
    },
    {
      "cell_type": "markdown",
      "source": [
        "checking membership in a list"
      ],
      "metadata": {
        "id": "waxZWNFZZBOr"
      }
    },
    {
      "cell_type": "code",
      "source": [
        "carlist=['bmw','gtr','toyota','nissan','honda']\n",
        "if 'bmw' in carlist:\n",
        "  print(\"bmw is in the list\")"
      ],
      "metadata": {
        "colab": {
          "base_uri": "https://localhost:8080/"
        },
        "id": "NO5A8Fx8ZFpr",
        "outputId": "02593e34-95fb-4f32-a55e-6a1a30414ddb"
      },
      "execution_count": null,
      "outputs": [
        {
          "output_type": "stream",
          "name": "stdout",
          "text": [
            "bmw is in the list\n"
          ]
        }
      ]
    },
    {
      "cell_type": "markdown",
      "source": [
        "concatenation #adding 2 list"
      ],
      "metadata": {
        "id": "rloFIAgSZpPz"
      }
    },
    {
      "cell_type": "code",
      "source": [
        "list1=['banan','apple']\n",
        "list2=['cherry','date']\n",
        "result= list1+list2\n",
        "print(result)"
      ],
      "metadata": {
        "colab": {
          "base_uri": "https://localhost:8080/"
        },
        "id": "UnkEQE6aZtt-",
        "outputId": "0e379e45-9360-46d9-8338-e099cd65142a"
      },
      "execution_count": null,
      "outputs": [
        {
          "output_type": "stream",
          "name": "stdout",
          "text": [
            "['banan', 'apple', 'cherry', 'date']\n"
          ]
        }
      ]
    },
    {
      "cell_type": "markdown",
      "source": [
        "Iterating through a list -*for* loop"
      ],
      "metadata": {
        "id": "XPIpeAt5aOMb"
      }
    },
    {
      "cell_type": "code",
      "source": [
        "carlist=['bmw','gtr','toyota','nissan','honda']\n",
        "for i in carlist:\n",
        "  print(i)"
      ],
      "metadata": {
        "colab": {
          "base_uri": "https://localhost:8080/"
        },
        "id": "7MSz2BuZaXDr",
        "outputId": "d23c352a-a38b-4452-ca46-f3fec14bd9e4"
      },
      "execution_count": null,
      "outputs": [
        {
          "output_type": "stream",
          "name": "stdout",
          "text": [
            "bmw\n",
            "gtr\n",
            "toyota\n",
            "nissan\n",
            "honda\n"
          ]
        }
      ]
    },
    {
      "cell_type": "markdown",
      "source": [
        "Iterating through a list -while loop"
      ],
      "metadata": {
        "id": "ubypzR9gbCBs"
      }
    },
    {
      "cell_type": "code",
      "source": [
        "carlist=['bmw','gtr','toyota','nissan','honda']\n",
        "i=0\n",
        "while i<len(carlist):\n",
        "  print(carlist[i], end=' ')\n",
        "  i+=1"
      ],
      "metadata": {
        "colab": {
          "base_uri": "https://localhost:8080/"
        },
        "id": "oRU9PvnVbMgE",
        "outputId": "a43560e2-3211-4f69-e85a-7fbf60a42283"
      },
      "execution_count": null,
      "outputs": [
        {
          "output_type": "stream",
          "name": "stdout",
          "text": [
            "bmw gtr toyota nissan honda "
          ]
        }
      ]
    },
    {
      "cell_type": "markdown",
      "source": [
        "Exercise 1"
      ],
      "metadata": {
        "id": "jzaBnlERcUTe"
      }
    },
    {
      "cell_type": "code",
      "source": [
        "fruits=['apple','banana','cherry','date']\n",
        "print(fruits[1])\n",
        "print(fruits[3])\n"
      ],
      "metadata": {
        "colab": {
          "base_uri": "https://localhost:8080/"
        },
        "id": "_zE6BMHhcWfV",
        "outputId": "be6e5385-e200-44c1-e37d-c7741ac0af1e"
      },
      "execution_count": null,
      "outputs": [
        {
          "output_type": "stream",
          "name": "stdout",
          "text": [
            "banana\n",
            "date\n"
          ]
        }
      ]
    },
    {
      "cell_type": "code",
      "source": [
        "fruits=['apple','banana','cherry','date']\n",
        "number=len(fruits)\n",
        "print(number)\n"
      ],
      "metadata": {
        "colab": {
          "base_uri": "https://localhost:8080/"
        },
        "id": "BeEwxNZVdF3t",
        "outputId": "cbfb1462-072a-4e54-fa33-6a8a0610bcd9"
      },
      "execution_count": null,
      "outputs": [
        {
          "output_type": "stream",
          "name": "stdout",
          "text": [
            "4\n"
          ]
        }
      ]
    },
    {
      "cell_type": "code",
      "source": [
        "fruits=['apple','banana','cherry','date']\n",
        "take=fruits[:3]\n",
        "print(take)"
      ],
      "metadata": {
        "colab": {
          "base_uri": "https://localhost:8080/"
        },
        "id": "0iXmzTWZdspu",
        "outputId": "926c234e-64e0-4a64-cc73-ac1bcd688c1d"
      },
      "execution_count": null,
      "outputs": [
        {
          "output_type": "stream",
          "name": "stdout",
          "text": [
            "['apple', 'banana', 'cherry']\n"
          ]
        }
      ]
    },
    {
      "cell_type": "code",
      "source": [
        "vegetable=['carrot','broccoli']\n",
        "fruits=['apple','banana','cherry','date']\n",
        "result=vegetable+fruits\n",
        "print(result)\n",
        "\n"
      ],
      "metadata": {
        "colab": {
          "base_uri": "https://localhost:8080/"
        },
        "id": "K37hd3-yd4se",
        "outputId": "92a67dff-563d-4f19-a4d1-dd064846af13"
      },
      "execution_count": null,
      "outputs": [
        {
          "output_type": "stream",
          "name": "stdout",
          "text": [
            "['carrot', 'broccoli', 'apple', 'banana', 'cherry', 'date']\n"
          ]
        }
      ]
    },
    {
      "cell_type": "code",
      "source": [
        "fruits=['apple','banana','cherry','date']\n",
        "if 'banana' in fruits:\n",
        "  print('got banana')\n",
        "\n"
      ],
      "metadata": {
        "colab": {
          "base_uri": "https://localhost:8080/"
        },
        "id": "wGf05AbLeRIl",
        "outputId": "c4654bce-9d46-4e81-e28a-20c2a075334a"
      },
      "execution_count": null,
      "outputs": [
        {
          "output_type": "stream",
          "name": "stdout",
          "text": [
            "got banana\n"
          ]
        }
      ]
    },
    {
      "cell_type": "code",
      "source": [
        "fruits=['apple','banana','cherry','date']\n",
        "for i in fruits:\n",
        "  print(i)"
      ],
      "metadata": {
        "colab": {
          "base_uri": "https://localhost:8080/"
        },
        "id": "TXFDoLbVekGH",
        "outputId": "300b4c07-563e-4466-88e8-1b269427cbba"
      },
      "execution_count": null,
      "outputs": [
        {
          "output_type": "stream",
          "name": "stdout",
          "text": [
            "apple\n",
            "banana\n",
            "cherry\n",
            "date\n"
          ]
        }
      ]
    },
    {
      "cell_type": "markdown",
      "source": [
        "Excercise 2"
      ],
      "metadata": {
        "id": "PSiLFNFJe46O"
      }
    },
    {
      "cell_type": "code",
      "source": [
        "number= [1,2,3,4,5]\n",
        "number.insert(2,10)\n",
        "print(number)\n"
      ],
      "metadata": {
        "colab": {
          "base_uri": "https://localhost:8080/"
        },
        "id": "nWiK_56Lfeot",
        "outputId": "27d6236a-06f2-482e-9f81-b961da0deed6"
      },
      "execution_count": null,
      "outputs": [
        {
          "output_type": "stream",
          "name": "stdout",
          "text": [
            "[1, 2, 10, 3, 4, 5]\n"
          ]
        }
      ]
    },
    {
      "cell_type": "code",
      "source": [
        "number= [1,2,3,4,5]\n",
        "number.append(6)\n",
        "print(number)"
      ],
      "metadata": {
        "colab": {
          "base_uri": "https://localhost:8080/"
        },
        "id": "CNAxvPRAgImW",
        "outputId": "87f159dc-db5f-4867-f1b6-2606f6c70ddb"
      },
      "execution_count": null,
      "outputs": [
        {
          "output_type": "stream",
          "name": "stdout",
          "text": [
            "[1, 2, 3, 4, 5, 6]\n"
          ]
        }
      ]
    },
    {
      "cell_type": "code",
      "source": [
        "number= [1,2,3,4,5]\n",
        "number.remove(2)\n",
        "print(number)\n",
        "\n"
      ],
      "metadata": {
        "id": "mxaxF9RjgVu6"
      },
      "execution_count": null,
      "outputs": []
    },
    {
      "cell_type": "markdown",
      "source": [
        "Exercise 3"
      ],
      "metadata": {
        "id": "KnLVuxl5g5H4"
      }
    },
    {
      "cell_type": "code",
      "source": [
        "numbers= [1,2,3,4,5,6,7,8,9,10]\n",
        "squared_evens=[n**2 for n in numbers if n % 2 ==0]\n",
        "print(squared_evens)\n"
      ],
      "metadata": {
        "colab": {
          "base_uri": "https://localhost:8080/"
        },
        "id": "DQsv90YQg682",
        "outputId": "89a30ef0-be94-4015-ca47-0d39b9990342"
      },
      "execution_count": null,
      "outputs": [
        {
          "output_type": "stream",
          "name": "stdout",
          "text": [
            "[4, 16, 36, 64, 100]\n"
          ]
        }
      ]
    }
  ]
}